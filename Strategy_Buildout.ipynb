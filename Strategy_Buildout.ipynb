{
  "nbformat": 4,
  "nbformat_minor": 0,
  "metadata": {
    "colab": {
      "provenance": [],
      "include_colab_link": true
    },
    "kernelspec": {
      "name": "python3",
      "display_name": "Python 3"
    },
    "language_info": {
      "name": "python"
    }
  },
  "cells": [
    {
      "cell_type": "markdown",
      "metadata": {
        "id": "view-in-github",
        "colab_type": "text"
      },
      "source": [
        "<a href=\"https://colab.research.google.com/github/AnvitD/Trading-strategy/blob/main/Strategy_Buildout.ipynb\" target=\"_parent\"><img src=\"https://colab.research.google.com/assets/colab-badge.svg\" alt=\"Open In Colab\"/></a>"
      ]
    },
    {
      "cell_type": "markdown",
      "source": [
        "Here we have a momentum strategy. This strategy takes advantage of herding bias: the idea that when an asset is on the rise, people will want to get in on it and buy more.\n",
        "\n",
        "The way this strategy works is it takes the Z-score of the returns from the past 10 days with respect to the returns over the  past year. If the cryptocurrency is performing well, then we buy, otherwise we don't"
      ],
      "metadata": {
        "id": "q45sbFFDv1HJ"
      }
    },
    {
      "cell_type": "code",
      "execution_count": null,
      "metadata": {
        "colab": {
          "base_uri": "https://localhost:8080/"
        },
        "id": "R7MXJBqom2Gf",
        "outputId": "22b1a7c3-4e2c-484b-943b-e643b3cb8457"
      },
      "outputs": [
        {
          "output_type": "stream",
          "name": "stderr",
          "text": [
            "[*********************100%***********************]  4 of 4 completed\n"
          ]
        }
      ],
      "source": [
        "# compute returns\n",
        "import yfinance as yf\n",
        "import numpy as np\n",
        "\n",
        "data = yf.download(['ADA-USD','BNB-USD','BTC-USD','ETH-USD'],'2016-1-1')\n",
        "\n",
        "# calculate pct change (this is the % return for the day)\n",
        "ret = data['Adj Close'].pct_change()"
      ]
    },
    {
      "cell_type": "code",
      "source": [
        "# compute portfolios and strategy returns\n",
        "port = (ret.rolling(10,min_periods=1).mean() - ret.rolling(365,min_periods=10).mean())\n",
        "port = port / ret.rolling(365,min_periods=10).std()\n",
        "\n",
        "# use tanh to cap positions at -1 and 1\n",
        "positions = np.tanh(port)\n",
        "\n",
        "# apply strategy to returns by multiplying positions by previous day returns\n",
        "strat_ret = positions.shift()*ret"
      ],
      "metadata": {
        "id": "7ApE4u5-m5bO"
      },
      "execution_count": null,
      "outputs": []
    },
    {
      "cell_type": "code",
      "source": [
        "# strategy sharpes\n",
        "strat_ret.mean()*np.sqrt(365)/strat_ret.std()"
      ],
      "metadata": {
        "colab": {
          "base_uri": "https://localhost:8080/",
          "height": 241
        },
        "id": "4L29nRbbm6x3",
        "outputId": "784c3a9e-f911-4fd5-f7c4-d372d40c07e8"
      },
      "execution_count": null,
      "outputs": [
        {
          "output_type": "execute_result",
          "data": {
            "text/plain": [
              "Ticker\n",
              "ADA-USD    0.782916\n",
              "BNB-USD    0.861299\n",
              "BTC-USD    0.676442\n",
              "ETH-USD    0.770010\n",
              "dtype: float64"
            ],
            "text/html": [
              "<div>\n",
              "<style scoped>\n",
              "    .dataframe tbody tr th:only-of-type {\n",
              "        vertical-align: middle;\n",
              "    }\n",
              "\n",
              "    .dataframe tbody tr th {\n",
              "        vertical-align: top;\n",
              "    }\n",
              "\n",
              "    .dataframe thead th {\n",
              "        text-align: right;\n",
              "    }\n",
              "</style>\n",
              "<table border=\"1\" class=\"dataframe\">\n",
              "  <thead>\n",
              "    <tr style=\"text-align: right;\">\n",
              "      <th></th>\n",
              "      <th>0</th>\n",
              "    </tr>\n",
              "    <tr>\n",
              "      <th>Ticker</th>\n",
              "      <th></th>\n",
              "    </tr>\n",
              "  </thead>\n",
              "  <tbody>\n",
              "    <tr>\n",
              "      <th>ADA-USD</th>\n",
              "      <td>0.782916</td>\n",
              "    </tr>\n",
              "    <tr>\n",
              "      <th>BNB-USD</th>\n",
              "      <td>0.861299</td>\n",
              "    </tr>\n",
              "    <tr>\n",
              "      <th>BTC-USD</th>\n",
              "      <td>0.676442</td>\n",
              "    </tr>\n",
              "    <tr>\n",
              "      <th>ETH-USD</th>\n",
              "      <td>0.770010</td>\n",
              "    </tr>\n",
              "  </tbody>\n",
              "</table>\n",
              "</div><br><label><b>dtype:</b> float64</label>"
            ]
          },
          "metadata": {},
          "execution_count": 3
        }
      ]
    },
    {
      "cell_type": "code",
      "source": [
        "# strategy sharpes\n",
        "strat_ret.mean()*np.sqrt(365)/strat_ret.std()"
      ],
      "metadata": {
        "colab": {
          "base_uri": "https://localhost:8080/",
          "height": 241
        },
        "id": "WNmYW8R1m8wp",
        "outputId": "d015cd84-6ed1-44e7-c933-b6c0b4a0bb76"
      },
      "execution_count": null,
      "outputs": [
        {
          "output_type": "execute_result",
          "data": {
            "text/plain": [
              "Ticker\n",
              "ADA-USD    0.639377\n",
              "BNB-USD    0.683792\n",
              "BTC-USD    0.377443\n",
              "ETH-USD    0.396578\n",
              "dtype: float64"
            ],
            "text/html": [
              "<div>\n",
              "<style scoped>\n",
              "    .dataframe tbody tr th:only-of-type {\n",
              "        vertical-align: middle;\n",
              "    }\n",
              "\n",
              "    .dataframe tbody tr th {\n",
              "        vertical-align: top;\n",
              "    }\n",
              "\n",
              "    .dataframe thead th {\n",
              "        text-align: right;\n",
              "    }\n",
              "</style>\n",
              "<table border=\"1\" class=\"dataframe\">\n",
              "  <thead>\n",
              "    <tr style=\"text-align: right;\">\n",
              "      <th></th>\n",
              "      <th>0</th>\n",
              "    </tr>\n",
              "    <tr>\n",
              "      <th>Ticker</th>\n",
              "      <th></th>\n",
              "    </tr>\n",
              "  </thead>\n",
              "  <tbody>\n",
              "    <tr>\n",
              "      <th>ADA-USD</th>\n",
              "      <td>0.639377</td>\n",
              "    </tr>\n",
              "    <tr>\n",
              "      <th>BNB-USD</th>\n",
              "      <td>0.683792</td>\n",
              "    </tr>\n",
              "    <tr>\n",
              "      <th>BTC-USD</th>\n",
              "      <td>0.377443</td>\n",
              "    </tr>\n",
              "    <tr>\n",
              "      <th>ETH-USD</th>\n",
              "      <td>0.396578</td>\n",
              "    </tr>\n",
              "  </tbody>\n",
              "</table>\n",
              "</div><br><label><b>dtype:</b> float64</label>"
            ]
          },
          "metadata": {},
          "execution_count": 8
        }
      ]
    },
    {
      "cell_type": "code",
      "source": [
        "# plot strategy cum returns\n",
        "(strat_ret+1).cumprod().plot()"
      ],
      "metadata": {
        "colab": {
          "base_uri": "https://localhost:8080/",
          "height": 466
        },
        "id": "d_7zvIz5m9lt",
        "outputId": "3fb62e94-2268-404d-f48b-e47a3f7c18f0"
      },
      "execution_count": null,
      "outputs": [
        {
          "output_type": "execute_result",
          "data": {
            "text/plain": [
              "<Axes: xlabel='Date'>"
            ]
          },
          "metadata": {},
          "execution_count": 9
        },
        {
          "output_type": "display_data",
          "data": {
            "text/plain": [
              "<Figure size 640x480 with 1 Axes>"
            ],
            "image/png": "[encoded data removed]"
          },
          "metadata": {}
        }
      ]
    },
    {
      "cell_type": "code",
      "source": [
        "# correlations with underlying assets. Fairly low correlation\n",
        "strat_ret.corrwith(ret)"
      ],
      "metadata": {
        "colab": {
          "base_uri": "https://localhost:8080/",
          "height": 241
        },
        "id": "DSwa1BoGwBCg",
        "outputId": "421f940b-0138-4e1d-ffef-76ff5da80089"
      },
      "execution_count": null,
      "outputs": [
        {
          "output_type": "execute_result",
          "data": {
            "text/plain": [
              "Ticker\n",
              "ADA-USD    0.157613\n",
              "BNB-USD    0.214666\n",
              "BTC-USD   -0.097947\n",
              "ETH-USD   -0.160785\n",
              "dtype: float64"
            ],
            "text/html": [
              "<div>\n",
              "<style scoped>\n",
              "    .dataframe tbody tr th:only-of-type {\n",
              "        vertical-align: middle;\n",
              "    }\n",
              "\n",
              "    .dataframe tbody tr th {\n",
              "        vertical-align: top;\n",
              "    }\n",
              "\n",
              "    .dataframe thead th {\n",
              "        text-align: right;\n",
              "    }\n",
              "</style>\n",
              "<table border=\"1\" class=\"dataframe\">\n",
              "  <thead>\n",
              "    <tr style=\"text-align: right;\">\n",
              "      <th></th>\n",
              "      <th>0</th>\n",
              "    </tr>\n",
              "    <tr>\n",
              "      <th>Ticker</th>\n",
              "      <th></th>\n",
              "    </tr>\n",
              "  </thead>\n",
              "  <tbody>\n",
              "    <tr>\n",
              "      <th>ADA-USD</th>\n",
              "      <td>0.157613</td>\n",
              "    </tr>\n",
              "    <tr>\n",
              "      <th>BNB-USD</th>\n",
              "      <td>0.214666</td>\n",
              "    </tr>\n",
              "    <tr>\n",
              "      <th>BTC-USD</th>\n",
              "      <td>-0.097947</td>\n",
              "    </tr>\n",
              "    <tr>\n",
              "      <th>ETH-USD</th>\n",
              "      <td>-0.160785</td>\n",
              "    </tr>\n",
              "  </tbody>\n",
              "</table>\n",
              "</div><br><label><b>dtype:</b> float64</label>"
            ]
          },
          "metadata": {},
          "execution_count": 10
        }
      ]
    }
  ]
}